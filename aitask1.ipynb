{
  "nbformat": 4,
  "nbformat_minor": 0,
  "metadata": {
    "colab": {
      "provenance": [],
      "gpuType": "T4",
      "mount_file_id": "1HFsvORflsnCnATnQk978rVOPmZ3auIAK",
      "authorship_tag": "ABX9TyP8fCMkX9zDnZ2YrnE4sL0L",
      "include_colab_link": true
    },
    "kernelspec": {
      "name": "python3",
      "display_name": "Python 3"
    },
    "language_info": {
      "name": "python"
    },
    "accelerator": "GPU"
  },
  "cells": [
    {
      "cell_type": "markdown",
      "metadata": {
        "id": "view-in-github",
        "colab_type": "text"
      },
      "source": [
        "<a href=\"https://colab.research.google.com/github/devipriya2006/PRODIGY_GA_01/blob/master/aitask1.ipynb\" target=\"_parent\"><img src=\"https://colab.research.google.com/assets/colab-badge.svg\" alt=\"Open In Colab\"/></a>"
      ]
    },
    {
      "cell_type": "markdown",
      "source": [
        "# **Train a GPT-2 model**\n",
        " To generate coherent and contextually relevant text based on a given prompt"
      ],
      "metadata": {
        "id": "1KVyYJ_sF8La"
      }
    },
    {
      "cell_type": "code",
      "source": [
        "%tensorflow_version 2.x"
      ],
      "metadata": {
        "colab": {
          "base_uri": "https://localhost:8080/"
        },
        "id": "qiEFBeUSvHzg",
        "outputId": "09f73dd2-3d8d-4709-ea9d-ff378885b4b3"
      },
      "execution_count": 10,
      "outputs": [
        {
          "output_type": "stream",
          "name": "stdout",
          "text": [
            "Colab only includes TensorFlow 2.x; %tensorflow_version has no effect.\n"
          ]
        }
      ]
    },
    {
      "cell_type": "markdown",
      "source": [
        "# Install gpt-2-simple\n",
        "\n",
        "\n"
      ],
      "metadata": {
        "id": "huaC6DWyN_AX"
      }
    },
    {
      "cell_type": "code",
      "source": [
        "!pip install gpt-2-simple"
      ],
      "metadata": {
        "colab": {
          "base_uri": "https://localhost:8080/"
        },
        "id": "1V1xAQEqqg1c",
        "outputId": "b1cc03ea-f6b3-4e1c-91f7-267a25f3ca2d"
      },
      "execution_count": 11,
      "outputs": [
        {
          "output_type": "stream",
          "name": "stdout",
          "text": [
            "Collecting gpt-2-simple\n",
            "  Downloading gpt_2_simple-0.8.1.tar.gz (26 kB)\n",
            "  Preparing metadata (setup.py) ... \u001b[?25l\u001b[?25hdone\n",
            "Requirement already satisfied: tensorflow>=2.5.1 in /usr/local/lib/python3.11/dist-packages (from gpt-2-simple) (2.17.1)\n",
            "Requirement already satisfied: regex in /usr/local/lib/python3.11/dist-packages (from gpt-2-simple) (2024.11.6)\n",
            "Requirement already satisfied: requests in /usr/local/lib/python3.11/dist-packages (from gpt-2-simple) (2.32.3)\n",
            "Requirement already satisfied: tqdm in /usr/local/lib/python3.11/dist-packages (from gpt-2-simple) (4.67.1)\n",
            "Requirement already satisfied: numpy in /usr/local/lib/python3.11/dist-packages (from gpt-2-simple) (1.26.4)\n",
            "Collecting toposort (from gpt-2-simple)\n",
            "  Downloading toposort-1.10-py3-none-any.whl.metadata (4.1 kB)\n",
            "Requirement already satisfied: absl-py>=1.0.0 in /usr/local/lib/python3.11/dist-packages (from tensorflow>=2.5.1->gpt-2-simple) (1.4.0)\n",
            "Requirement already satisfied: astunparse>=1.6.0 in /usr/local/lib/python3.11/dist-packages (from tensorflow>=2.5.1->gpt-2-simple) (1.6.3)\n",
            "Requirement already satisfied: flatbuffers>=24.3.25 in /usr/local/lib/python3.11/dist-packages (from tensorflow>=2.5.1->gpt-2-simple) (25.1.21)\n",
            "Requirement already satisfied: gast!=0.5.0,!=0.5.1,!=0.5.2,>=0.2.1 in /usr/local/lib/python3.11/dist-packages (from tensorflow>=2.5.1->gpt-2-simple) (0.6.0)\n",
            "Requirement already satisfied: google-pasta>=0.1.1 in /usr/local/lib/python3.11/dist-packages (from tensorflow>=2.5.1->gpt-2-simple) (0.2.0)\n",
            "Requirement already satisfied: h5py>=3.10.0 in /usr/local/lib/python3.11/dist-packages (from tensorflow>=2.5.1->gpt-2-simple) (3.12.1)\n",
            "Requirement already satisfied: libclang>=13.0.0 in /usr/local/lib/python3.11/dist-packages (from tensorflow>=2.5.1->gpt-2-simple) (18.1.1)\n",
            "Requirement already satisfied: ml-dtypes<0.5.0,>=0.3.1 in /usr/local/lib/python3.11/dist-packages (from tensorflow>=2.5.1->gpt-2-simple) (0.4.1)\n",
            "Requirement already satisfied: opt-einsum>=2.3.2 in /usr/local/lib/python3.11/dist-packages (from tensorflow>=2.5.1->gpt-2-simple) (3.4.0)\n",
            "Requirement already satisfied: packaging in /usr/local/lib/python3.11/dist-packages (from tensorflow>=2.5.1->gpt-2-simple) (24.2)\n",
            "Requirement already satisfied: protobuf!=4.21.0,!=4.21.1,!=4.21.2,!=4.21.3,!=4.21.4,!=4.21.5,<5.0.0dev,>=3.20.3 in /usr/local/lib/python3.11/dist-packages (from tensorflow>=2.5.1->gpt-2-simple) (4.25.6)\n",
            "Requirement already satisfied: setuptools in /usr/local/lib/python3.11/dist-packages (from tensorflow>=2.5.1->gpt-2-simple) (75.1.0)\n",
            "Requirement already satisfied: six>=1.12.0 in /usr/local/lib/python3.11/dist-packages (from tensorflow>=2.5.1->gpt-2-simple) (1.17.0)\n",
            "Requirement already satisfied: termcolor>=1.1.0 in /usr/local/lib/python3.11/dist-packages (from tensorflow>=2.5.1->gpt-2-simple) (2.5.0)\n",
            "Requirement already satisfied: typing-extensions>=3.6.6 in /usr/local/lib/python3.11/dist-packages (from tensorflow>=2.5.1->gpt-2-simple) (4.12.2)\n",
            "Requirement already satisfied: wrapt>=1.11.0 in /usr/local/lib/python3.11/dist-packages (from tensorflow>=2.5.1->gpt-2-simple) (1.17.2)\n",
            "Requirement already satisfied: grpcio<2.0,>=1.24.3 in /usr/local/lib/python3.11/dist-packages (from tensorflow>=2.5.1->gpt-2-simple) (1.70.0)\n",
            "Requirement already satisfied: tensorboard<2.18,>=2.17 in /usr/local/lib/python3.11/dist-packages (from tensorflow>=2.5.1->gpt-2-simple) (2.17.1)\n",
            "Requirement already satisfied: keras>=3.2.0 in /usr/local/lib/python3.11/dist-packages (from tensorflow>=2.5.1->gpt-2-simple) (3.5.0)\n",
            "Requirement already satisfied: tensorflow-io-gcs-filesystem>=0.23.1 in /usr/local/lib/python3.11/dist-packages (from tensorflow>=2.5.1->gpt-2-simple) (0.37.1)\n",
            "Requirement already satisfied: charset-normalizer<4,>=2 in /usr/local/lib/python3.11/dist-packages (from requests->gpt-2-simple) (3.4.1)\n",
            "Requirement already satisfied: idna<4,>=2.5 in /usr/local/lib/python3.11/dist-packages (from requests->gpt-2-simple) (3.10)\n",
            "Requirement already satisfied: urllib3<3,>=1.21.1 in /usr/local/lib/python3.11/dist-packages (from requests->gpt-2-simple) (2.3.0)\n",
            "Requirement already satisfied: certifi>=2017.4.17 in /usr/local/lib/python3.11/dist-packages (from requests->gpt-2-simple) (2024.12.14)\n",
            "Requirement already satisfied: wheel<1.0,>=0.23.0 in /usr/local/lib/python3.11/dist-packages (from astunparse>=1.6.0->tensorflow>=2.5.1->gpt-2-simple) (0.45.1)\n",
            "Requirement already satisfied: rich in /usr/local/lib/python3.11/dist-packages (from keras>=3.2.0->tensorflow>=2.5.1->gpt-2-simple) (13.9.4)\n",
            "Requirement already satisfied: namex in /usr/local/lib/python3.11/dist-packages (from keras>=3.2.0->tensorflow>=2.5.1->gpt-2-simple) (0.0.8)\n",
            "Requirement already satisfied: optree in /usr/local/lib/python3.11/dist-packages (from keras>=3.2.0->tensorflow>=2.5.1->gpt-2-simple) (0.14.0)\n",
            "Requirement already satisfied: markdown>=2.6.8 in /usr/local/lib/python3.11/dist-packages (from tensorboard<2.18,>=2.17->tensorflow>=2.5.1->gpt-2-simple) (3.7)\n",
            "Requirement already satisfied: tensorboard-data-server<0.8.0,>=0.7.0 in /usr/local/lib/python3.11/dist-packages (from tensorboard<2.18,>=2.17->tensorflow>=2.5.1->gpt-2-simple) (0.7.2)\n",
            "Requirement already satisfied: werkzeug>=1.0.1 in /usr/local/lib/python3.11/dist-packages (from tensorboard<2.18,>=2.17->tensorflow>=2.5.1->gpt-2-simple) (3.1.3)\n",
            "Requirement already satisfied: MarkupSafe>=2.1.1 in /usr/local/lib/python3.11/dist-packages (from werkzeug>=1.0.1->tensorboard<2.18,>=2.17->tensorflow>=2.5.1->gpt-2-simple) (3.0.2)\n",
            "Requirement already satisfied: markdown-it-py>=2.2.0 in /usr/local/lib/python3.11/dist-packages (from rich->keras>=3.2.0->tensorflow>=2.5.1->gpt-2-simple) (3.0.0)\n",
            "Requirement already satisfied: pygments<3.0.0,>=2.13.0 in /usr/local/lib/python3.11/dist-packages (from rich->keras>=3.2.0->tensorflow>=2.5.1->gpt-2-simple) (2.18.0)\n",
            "Requirement already satisfied: mdurl~=0.1 in /usr/local/lib/python3.11/dist-packages (from markdown-it-py>=2.2.0->rich->keras>=3.2.0->tensorflow>=2.5.1->gpt-2-simple) (0.1.2)\n",
            "Downloading toposort-1.10-py3-none-any.whl (8.5 kB)\n",
            "Building wheels for collected packages: gpt-2-simple\n",
            "  Building wheel for gpt-2-simple (setup.py) ... \u001b[?25l\u001b[?25hdone\n",
            "  Created wheel for gpt-2-simple: filename=gpt_2_simple-0.8.1-py3-none-any.whl size=24556 sha256=5ae9fb703435308b6547cc457a98d8307769e40cc1552036b3877064c158a2ea\n",
            "  Stored in directory: /root/.cache/pip/wheels/9e/59/88/2abf9f043f52307bb3d81010e26ecdb5e539b392e8aca2501f\n",
            "Successfully built gpt-2-simple\n",
            "Installing collected packages: toposort, gpt-2-simple\n",
            "Successfully installed gpt-2-simple-0.8.1 toposort-1.10\n"
          ]
        }
      ]
    },
    {
      "cell_type": "markdown",
      "source": [
        "# import gpt-2-simple"
      ],
      "metadata": {
        "id": "Hpcw0z-qEV2x"
      }
    },
    {
      "cell_type": "code",
      "source": [
        "import gpt_2_simple as gpt2_simple\n",
        "from datetime import datetime\n"
      ],
      "metadata": {
        "id": "C5XkhqE_Oset"
      },
      "execution_count": 12,
      "outputs": []
    },
    {
      "cell_type": "markdown",
      "source": [
        "# **Loading gpt-2**\n",
        "*There* are several sizes of GPT-2:\n",
        "\n",
        "\n",
        "* 124M (default): the \"small\" model, 500MB on disk.\n",
        "\n",
        "* 355M (default): the \"medium\" model, 1.\n",
        "5GB on disk.\n",
        "\n",
        "\n",
        "* 774M (default): the \"large\" model, 3GB on disk.\n",
        "\n",
        "Here,i'm using 124M."
      ],
      "metadata": {
        "id": "HWilJHg0EfM8"
      }
    },
    {
      "cell_type": "code",
      "source": [
        "gpt2_simple.download_gpt2(model_name='124M')"
      ],
      "metadata": {
        "id": "njHpBeGEwxrQ",
        "colab": {
          "base_uri": "https://localhost:8080/"
        },
        "outputId": "a9648a65-c9d8-4d58-df1c-d8ab70d96373"
      },
      "execution_count": 13,
      "outputs": [
        {
          "output_type": "stream",
          "name": "stderr",
          "text": [
            "Fetching checkpoint: 1.05Mit [00:00, 3.13Git/s]                                                     \n",
            "Fetching encoder.json: 1.05Mit [00:00, 2.12Mit/s]\n",
            "Fetching hparams.json: 1.05Mit [00:00, 5.44Git/s]                                                   \n",
            "Fetching model.ckpt.data-00000-of-00001: 498Mit [00:42, 11.6Mit/s]\n",
            "Fetching model.ckpt.index: 1.05Mit [00:00, 906Mit/s]                                                \n",
            "Fetching model.ckpt.meta: 1.05Mit [00:00, 2.86Mit/s]\n",
            "Fetching vocab.bpe: 1.05Mit [00:00, 3.46Mit/s]\n"
          ]
        }
      ]
    },
    {
      "cell_type": "code",
      "source": [
        "from google.colab import files"
      ],
      "metadata": {
        "id": "ILGB-3B1_JKj"
      },
      "execution_count": 14,
      "outputs": []
    },
    {
      "cell_type": "code",
      "source": [
        "gpt2_simple.mount_gdrive()"
      ],
      "metadata": {
        "colab": {
          "base_uri": "https://localhost:8080/"
        },
        "id": "bpdNEtfNAEgf",
        "outputId": "fd414a10-52d1-4adc-aea3-aede947663c3"
      },
      "execution_count": 15,
      "outputs": [
        {
          "output_type": "stream",
          "name": "stdout",
          "text": [
            "Drive already mounted at /content/drive; to attempt to forcibly remount, call drive.mount(\"/content/drive\", force_remount=True).\n"
          ]
        }
      ]
    },
    {
      "cell_type": "code",
      "source": [
        "sess = gpt2_simple.start_tf_sess()"
      ],
      "metadata": {
        "id": "9bRcef-1Aevy"
      },
      "execution_count": 16,
      "outputs": []
    },
    {
      "cell_type": "markdown",
      "source": [
        "# **Finetune GPT-2**"
      ],
      "metadata": {
        "id": "gJ6_Jg-LHvpx"
      }
    },
    {
      "cell_type": "code",
      "source": [
        "gpt2_simple.finetune(sess,dataset='shakespeare.txt',steps=1000, model_name='124M',\n",
        "                     sample_every=200, save_every=1000,print_every=10,restore_from='fresh')"
      ],
      "metadata": {
        "colab": {
          "base_uri": "https://localhost:8080/",
          "height": 333
        },
        "id": "cwOkwjnoAcmj",
        "outputId": "4374d468-8c99-410e-a2f3-ea60e6c99f87",
        "collapsed": true
      },
      "execution_count": 51,
      "outputs": [
        {
          "output_type": "error",
          "ename": "ValueError",
          "evalue": "Variable model/wpe already exists, disallowed. Did you mean to set reuse=True or reuse=tf.AUTO_REUSE in VarScope?",
          "traceback": [
            "\u001b[0;31m---------------------------------------------------------------------------\u001b[0m",
            "\u001b[0;31mValueError\u001b[0m                                Traceback (most recent call last)",
            "\u001b[0;32m<ipython-input-51-6203aa76f1c8>\u001b[0m in \u001b[0;36m<cell line: 0>\u001b[0;34m()\u001b[0m\n\u001b[0;32m----> 1\u001b[0;31m gpt2_simple.finetune(sess,dataset='shakespeare.txt',steps=1000, model_name='124M',\n\u001b[0m\u001b[1;32m      2\u001b[0m                      sample_every=200, save_every=1000,print_every=10,restore_from='fresh')\n",
            "\u001b[0;32m/usr/local/lib/python3.11/dist-packages/gpt_2_simple/gpt_2.py\u001b[0m in \u001b[0;36mfinetune\u001b[0;34m(sess, dataset, steps, model_name, model_dir, combine, batch_size, learning_rate, accumulate_gradients, restore_from, run_name, checkpoint_dir, sample_every, sample_length, sample_num, multi_gpu, save_every, print_every, max_checkpoints, use_memory_saving_gradients, only_train_transformer_layers, optimizer, overwrite, reuse)\u001b[0m\n\u001b[1;32m    196\u001b[0m         \u001b[0mgpus\u001b[0m \u001b[0;34m=\u001b[0m \u001b[0mget_available_gpus\u001b[0m\u001b[0;34m(\u001b[0m\u001b[0;34m)\u001b[0m\u001b[0;34m\u001b[0m\u001b[0;34m\u001b[0m\u001b[0m\n\u001b[1;32m    197\u001b[0m \u001b[0;34m\u001b[0m\u001b[0m\n\u001b[0;32m--> 198\u001b[0;31m     \u001b[0moutput\u001b[0m \u001b[0;34m=\u001b[0m \u001b[0mmodel\u001b[0m\u001b[0;34m.\u001b[0m\u001b[0mmodel\u001b[0m\u001b[0;34m(\u001b[0m\u001b[0mhparams\u001b[0m\u001b[0;34m=\u001b[0m\u001b[0mhparams\u001b[0m\u001b[0;34m,\u001b[0m \u001b[0mX\u001b[0m\u001b[0;34m=\u001b[0m\u001b[0mcontext\u001b[0m\u001b[0;34m,\u001b[0m \u001b[0mgpus\u001b[0m\u001b[0;34m=\u001b[0m\u001b[0mgpus\u001b[0m\u001b[0;34m,\u001b[0m \u001b[0mreuse\u001b[0m\u001b[0;34m=\u001b[0m\u001b[0mreuse\u001b[0m\u001b[0;34m)\u001b[0m\u001b[0;34m\u001b[0m\u001b[0;34m\u001b[0m\u001b[0m\n\u001b[0m\u001b[1;32m    199\u001b[0m     loss = tf.reduce_mean(\n\u001b[1;32m    200\u001b[0m         input_tensor=tf.nn.sparse_softmax_cross_entropy_with_logits(\n",
            "\u001b[0;32m/usr/local/lib/python3.11/dist-packages/gpt_2_simple/src/model.py\u001b[0m in \u001b[0;36mmodel\u001b[0;34m(hparams, X, past, scope, gpus, reuse)\u001b[0m\n\u001b[1;32m    186\u001b[0m         \u001b[0mbatch\u001b[0m\u001b[0;34m,\u001b[0m \u001b[0msequence\u001b[0m \u001b[0;34m=\u001b[0m \u001b[0mshape_list\u001b[0m\u001b[0;34m(\u001b[0m\u001b[0mX\u001b[0m\u001b[0;34m)\u001b[0m\u001b[0;34m\u001b[0m\u001b[0;34m\u001b[0m\u001b[0m\n\u001b[1;32m    187\u001b[0m \u001b[0;34m\u001b[0m\u001b[0m\n\u001b[0;32m--> 188\u001b[0;31m         wpe = tf.compat.v1.get_variable('wpe', [hparams.n_ctx, hparams.n_embd],\n\u001b[0m\u001b[1;32m    189\u001b[0m                              initializer=tf.compat.v1.random_normal_initializer(stddev=0.01))\n\u001b[1;32m    190\u001b[0m         wte = tf.compat.v1.get_variable('wte', [hparams.n_vocab, hparams.n_embd],\n",
            "\u001b[0;32m/usr/local/lib/python3.11/dist-packages/tensorflow/python/ops/variable_scope.py\u001b[0m in \u001b[0;36mget_variable\u001b[0;34m(name, shape, dtype, initializer, regularizer, trainable, collections, caching_device, partitioner, validate_shape, use_resource, custom_getter, constraint, synchronization, aggregation)\u001b[0m\n\u001b[1;32m   1563\u001b[0m                  \u001b[0msynchronization\u001b[0m\u001b[0;34m=\u001b[0m\u001b[0mVariableSynchronization\u001b[0m\u001b[0;34m.\u001b[0m\u001b[0mAUTO\u001b[0m\u001b[0;34m,\u001b[0m\u001b[0;34m\u001b[0m\u001b[0;34m\u001b[0m\u001b[0m\n\u001b[1;32m   1564\u001b[0m                  aggregation=VariableAggregation.NONE):\n\u001b[0;32m-> 1565\u001b[0;31m   return get_variable_scope().get_variable(\n\u001b[0m\u001b[1;32m   1566\u001b[0m       \u001b[0m_get_default_variable_store\u001b[0m\u001b[0;34m(\u001b[0m\u001b[0;34m)\u001b[0m\u001b[0;34m,\u001b[0m\u001b[0;34m\u001b[0m\u001b[0;34m\u001b[0m\u001b[0m\n\u001b[1;32m   1567\u001b[0m       \u001b[0mname\u001b[0m\u001b[0;34m,\u001b[0m\u001b[0;34m\u001b[0m\u001b[0;34m\u001b[0m\u001b[0m\n",
            "\u001b[0;32m/usr/local/lib/python3.11/dist-packages/tensorflow/python/ops/variable_scope.py\u001b[0m in \u001b[0;36mget_variable\u001b[0;34m(self, var_store, name, shape, dtype, initializer, regularizer, reuse, trainable, collections, caching_device, partitioner, validate_shape, use_resource, custom_getter, constraint, synchronization, aggregation)\u001b[0m\n\u001b[1;32m   1273\u001b[0m       \u001b[0;32mif\u001b[0m \u001b[0mdtype\u001b[0m \u001b[0;32mis\u001b[0m \u001b[0;32mNone\u001b[0m\u001b[0;34m:\u001b[0m\u001b[0;34m\u001b[0m\u001b[0;34m\u001b[0m\u001b[0m\n\u001b[1;32m   1274\u001b[0m         \u001b[0mdtype\u001b[0m \u001b[0;34m=\u001b[0m \u001b[0mself\u001b[0m\u001b[0;34m.\u001b[0m\u001b[0m_dtype\u001b[0m\u001b[0;34m\u001b[0m\u001b[0;34m\u001b[0m\u001b[0m\n\u001b[0;32m-> 1275\u001b[0;31m       return var_store.get_variable(\n\u001b[0m\u001b[1;32m   1276\u001b[0m           \u001b[0mfull_name\u001b[0m\u001b[0;34m,\u001b[0m\u001b[0;34m\u001b[0m\u001b[0;34m\u001b[0m\u001b[0m\n\u001b[1;32m   1277\u001b[0m           \u001b[0mshape\u001b[0m\u001b[0;34m=\u001b[0m\u001b[0mshape\u001b[0m\u001b[0;34m,\u001b[0m\u001b[0;34m\u001b[0m\u001b[0;34m\u001b[0m\u001b[0m\n",
            "\u001b[0;32m/usr/local/lib/python3.11/dist-packages/tensorflow/python/ops/variable_scope.py\u001b[0m in \u001b[0;36mget_variable\u001b[0;34m(self, name, shape, dtype, initializer, regularizer, reuse, trainable, collections, caching_device, partitioner, validate_shape, use_resource, custom_getter, constraint, synchronization, aggregation)\u001b[0m\n\u001b[1;32m    518\u001b[0m       \u001b[0;32mreturn\u001b[0m \u001b[0mcustom_getter\u001b[0m\u001b[0;34m(\u001b[0m\u001b[0;34m**\u001b[0m\u001b[0mcustom_getter_kwargs\u001b[0m\u001b[0;34m)\u001b[0m\u001b[0;34m\u001b[0m\u001b[0;34m\u001b[0m\u001b[0m\n\u001b[1;32m    519\u001b[0m     \u001b[0;32melse\u001b[0m\u001b[0;34m:\u001b[0m\u001b[0;34m\u001b[0m\u001b[0;34m\u001b[0m\u001b[0m\n\u001b[0;32m--> 520\u001b[0;31m       return _true_getter(\n\u001b[0m\u001b[1;32m    521\u001b[0m           \u001b[0mname\u001b[0m\u001b[0;34m,\u001b[0m\u001b[0;34m\u001b[0m\u001b[0;34m\u001b[0m\u001b[0m\n\u001b[1;32m    522\u001b[0m           \u001b[0mshape\u001b[0m\u001b[0;34m=\u001b[0m\u001b[0mshape\u001b[0m\u001b[0;34m,\u001b[0m\u001b[0;34m\u001b[0m\u001b[0;34m\u001b[0m\u001b[0m\n",
            "\u001b[0;32m/usr/local/lib/python3.11/dist-packages/tensorflow/python/ops/variable_scope.py\u001b[0m in \u001b[0;36m_true_getter\u001b[0;34m(name, shape, dtype, initializer, regularizer, reuse, trainable, collections, caching_device, partitioner, validate_shape, use_resource, constraint, synchronization, aggregation)\u001b[0m\n\u001b[1;32m    471\u001b[0m             \"name was already created with partitioning?\" % name)\n\u001b[1;32m    472\u001b[0m \u001b[0;34m\u001b[0m\u001b[0m\n\u001b[0;32m--> 473\u001b[0;31m       return self._get_single_variable(\n\u001b[0m\u001b[1;32m    474\u001b[0m           \u001b[0mname\u001b[0m\u001b[0;34m=\u001b[0m\u001b[0mname\u001b[0m\u001b[0;34m,\u001b[0m\u001b[0;34m\u001b[0m\u001b[0;34m\u001b[0m\u001b[0m\n\u001b[1;32m    475\u001b[0m           \u001b[0mshape\u001b[0m\u001b[0;34m=\u001b[0m\u001b[0mshape\u001b[0m\u001b[0;34m,\u001b[0m\u001b[0;34m\u001b[0m\u001b[0;34m\u001b[0m\u001b[0m\n",
            "\u001b[0;32m/usr/local/lib/python3.11/dist-packages/tensorflow/python/ops/variable_scope.py\u001b[0m in \u001b[0;36m_get_single_variable\u001b[0;34m(self, name, shape, dtype, initializer, regularizer, partition_info, reuse, trainable, collections, caching_device, validate_shape, use_resource, constraint, synchronization, aggregation)\u001b[0m\n\u001b[1;32m    829\u001b[0m         \u001b[0;31m# ResourceVariables don't have an op associated with so no traceback\u001b[0m\u001b[0;34m\u001b[0m\u001b[0;34m\u001b[0m\u001b[0m\n\u001b[1;32m    830\u001b[0m         \u001b[0;32mif\u001b[0m \u001b[0misinstance\u001b[0m\u001b[0;34m(\u001b[0m\u001b[0mvar\u001b[0m\u001b[0;34m,\u001b[0m \u001b[0mresource_variable_ops\u001b[0m\u001b[0;34m.\u001b[0m\u001b[0mResourceVariable\u001b[0m\u001b[0;34m)\u001b[0m\u001b[0;34m:\u001b[0m\u001b[0;34m\u001b[0m\u001b[0;34m\u001b[0m\u001b[0m\n\u001b[0;32m--> 831\u001b[0;31m           \u001b[0;32mraise\u001b[0m \u001b[0mValueError\u001b[0m\u001b[0;34m(\u001b[0m\u001b[0merr_msg\u001b[0m\u001b[0;34m)\u001b[0m\u001b[0;34m\u001b[0m\u001b[0;34m\u001b[0m\u001b[0m\n\u001b[0m\u001b[1;32m    832\u001b[0m         \u001b[0mtb\u001b[0m \u001b[0;34m=\u001b[0m \u001b[0mvar\u001b[0m\u001b[0;34m.\u001b[0m\u001b[0mop\u001b[0m\u001b[0;34m.\u001b[0m\u001b[0mtraceback\u001b[0m\u001b[0;34m[\u001b[0m\u001b[0;34m:\u001b[0m\u001b[0;34m:\u001b[0m\u001b[0;34m-\u001b[0m\u001b[0;36m1\u001b[0m\u001b[0;34m]\u001b[0m\u001b[0;34m\u001b[0m\u001b[0;34m\u001b[0m\u001b[0m\n\u001b[1;32m    833\u001b[0m         \u001b[0;31m# Throw away internal tf entries and only take a few lines. In some\u001b[0m\u001b[0;34m\u001b[0m\u001b[0;34m\u001b[0m\u001b[0m\n",
            "\u001b[0;31mValueError\u001b[0m: Variable model/wpe already exists, disallowed. Did you mean to set reuse=True or reuse=tf.AUTO_REUSE in VarScope?"
          ]
        }
      ]
    },
    {
      "cell_type": "code",
      "source": [
        "from google.colab import drive\n",
        "drive.mount('/content/drive')"
      ],
      "metadata": {
        "colab": {
          "base_uri": "https://localhost:8080/"
        },
        "id": "JbvuVoUr64VQ",
        "outputId": "88b0035c-23c9-4a06-bdb8-22d57b9f11ae"
      },
      "execution_count": 32,
      "outputs": [
        {
          "output_type": "stream",
          "name": "stdout",
          "text": [
            "Drive already mounted at /content/drive; to attempt to forcibly remount, call drive.mount(\"/content/drive\", force_remount=True).\n"
          ]
        }
      ]
    },
    {
      "cell_type": "markdown",
      "source": [
        "# Load the trained model"
      ],
      "metadata": {
        "id": "aWZhrQ5zNcPz"
      }
    },
    {
      "cell_type": "code",
      "source": [
        "gpt2_simple.copy_checkpoint_to_gdrive(run_name='run1')"
      ],
      "metadata": {
        "id": "uoKpjKWkLwka"
      },
      "execution_count": 33,
      "outputs": []
    },
    {
      "cell_type": "markdown",
      "source": [
        "# **Generate Text From The Trained Model**"
      ],
      "metadata": {
        "id": "c4XRAomtKdOQ"
      }
    },
    {
      "cell_type": "code",
      "source": [
        "gpt2_simple.generate(sess, run_name='run1', length=300)"
      ],
      "metadata": {
        "id": "xt5LPDswNOdh",
        "colab": {
          "base_uri": "https://localhost:8080/"
        },
        "outputId": "12056cba-2f7f-4c33-ac73-417141c2b805"
      },
      "execution_count": 36,
      "outputs": [
        {
          "output_type": "stream",
          "name": "stdout",
          "text": [
            "The good news is that every month we start a new \"gold rush\" in the industry. Starting with the MacBook Pro, Apple has gone so far as to finally start selling new and new models of the same product. The bad news is that that means the MacBook Pro is going to be out sooner rather than later.\n",
            "\n",
            "I know this is a lot of folks who are into the MacBook Pro, but I can't imagine that they're going to go there on a whim. It's unlikely that Apple will make a deal with a brand that hasn't made a deal with a brand that has only released one new MacBook Pro.\n",
            "\n",
            "Got a tip for the masses? Leave a comment below, and we'll add it to our newsletter next week!\n",
            "\n",
            "Related:\n",
            "\n",
            "Apple is Going to Ship the New MacBook Pro with A New Design\n",
            "\n",
            "Apple to Release New MacBook Pro Models\n",
            "\n",
            "Meet the new MacBook Pro\n",
            "\n",
            "iPhone 6 Plus, iPod Touch 5th Anniversary\n",
            "\n",
            "What's New in the Mac Pro\n",
            "\n",
            "That's about all that we know right now about the new MacBook Pro, which is scheduled to hit stores in March.\n",
            "\n",
            "Here are the specs for the new MacBook Pro:\n",
            "\n",
            "Display:\n",
            "\n",
            "Nvidia GeForce GTX 980 Ti\n",
            "\n",
            "Nvidia GeForce GTX 970\n",
            "\n",
            "Nvidia GeForce GTX 960\n",
            "\n",
            "Nvidia GeForce GTX 950\n",
            "\n",
            "Nvidia GeForce GTX 960\n",
            "\n",
            "Nvidia GeForce GTX 970\n",
            "\n",
            "Nvidia GeForce GTX 960\n",
            "\n"
          ]
        }
      ]
    },
    {
      "cell_type": "code",
      "source": [
        "gpt2_simple.generate(sess)"
      ],
      "metadata": {
        "colab": {
          "base_uri": "https://localhost:8080/"
        },
        "id": "mDo_gsFB_AZd",
        "outputId": "825031e4-8070-425b-c926-dc99292c33b8"
      },
      "execution_count": 41,
      "outputs": [
        {
          "output_type": "stream",
          "name": "stdout",
          "text": [
            "If you have a lot of money, the only thing you have to ask yourself is how to pay for everything for you. If you don't have time to take care of your finances, there is no way to enjoy living your life.\n",
            "\n",
            "So what's the best way to pay for life? What are some ways that you can get rid of money and live better?\n",
            "\n",
            "1) Take care of your finances.\n",
            "\n",
            "The first thing you need to do is give yourself time to take care of your finances.\n",
            "\n",
            "If you have just started a business, you know that you need to take care of your finances in regular time. You need to feel good about yourself and enjoy the company of others. You should also try to take care of your finances by the time you really get back to work or school.\n",
            "\n",
            "When you are working every day, you might be taking care of your finances by the time you get to work. It is easy to forget that you have to take care of your finances and it is often impossible to do so because you are only looking for a day job and you don't have time to go to work. It is very difficult to find the time to do much of anything other than take care of your finances.\n",
            "\n",
            "In the meantime, you should be looking for a place to start and try to get started. You can do this by going to a bank and asking for a deposit and then going to a bank and asking for a line of credit. You will now be able to pay for your time and you will be able to pay for yourself.\n",
            "\n",
            "2) Take care of your finances.\n",
            "\n",
            "You have to take care of your finances. You need to take care of everything that comes with life. You need to take care of your finances because life is an important part of your life. So do not forget that life is an important part of your life. In fact, it is your life.\n",
            "\n",
            "There are many things that you can do to take care of your finances.\n",
            "\n",
            "Take care of your money.\n",
            "\n",
            "Many people don't understand that your money is important. If you don't have money for yourself, you will not be happy.\n",
            "\n",
            "Take care of your needs.\n",
            "\n",
            "When you see a problem, you think about how to solve it. You can make a statement that says that something is wrong with your life, but this is not what you want to say.\n",
            "\n",
            "Take care of your time.\n",
            "\n",
            "Time is important. Like life, it does not have to be stressful. You can put your heart and soul into managing your time.\n",
            "\n",
            "Take care of your money.\n",
            "\n",
            "Money is important. It is what you have and it is what you need. If your money is good, it is good enough to pay for your expenses.\n",
            "\n",
            "Take care of your money.\n",
            "\n",
            "Money is a part of life. Money is important because it is what you have.\n",
            "\n",
            "Take care of your money.\n",
            "\n",
            "You can do this by taking care of your finances.\n",
            "\n",
            "If you have money to pay for things, to pay for your expenses, to pay for your education, to pay for your school, to pay for your doctor's office, to pay for your school, to pay for your school's food, to pay for your school's electricity, to pay for your school's water, to pay for your school's water supply, to pay for your school's electrical, to pay for your school's electricity supply, to pay for your school's medical supplies, to pay for your school's medicines, to pay for your school's house supplies, to pay for your school's medical supplies, to pay for your school's hospital supplies, to pay for your school's medicines, to pay for your school's prescriptions, to pay for your school's books, to pay for your school's books, to pay for your school's supplies, to pay for your money, to pay for your whole life's worth.\n",
            "\n",
            "Buy a house.\n",
            "\n",
            "If you want a house, you can buy it. You can buy a house for yourself, for your family, or for a friend. If you want to buy a house for a friend, you can buy a house for yourself.\n",
            "\n",
            "Take care of your finances.\n",
            "\n",
            "You have to take care of your finances. If you don't have money for yourself, you will not be happy.\n",
            "\n",
            "Take care of your money.\n",
            "\n",
            "When you see a problem, you think about how to solve it. You can make a statement that says that something is wrong with your life, but this is not what you want to say.\n",
            "\n",
            "Take care of your money.\n",
            "\n",
            "Money is a part of life. Money is important because it is what you have.\n",
            "\n",
            "Take care of your money.\n",
            "\n",
            "You can do this by taking care of your finances.\n",
            "\n",
            "When you see a problem, you think about how to solve it. You can make\n"
          ]
        }
      ]
    }
  ]
}